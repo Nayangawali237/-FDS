{
 "cells": [
  {
   "cell_type": "code",
   "execution_count": 1,
   "id": "b045c579-dbd7-4cd7-bd41-0613d8b48552",
   "metadata": {},
   "outputs": [
    {
     "name": "stdout",
     "output_type": "stream",
     "text": [
      "[[1 1 1]\n",
      " [1 1 1]\n",
      " [1 1 1]\n",
      " [1 1 1]]\n",
      "(4, 3)\n",
      "int64\n"
     ]
    }
   ],
   "source": [
    "import numpy as np\n",
    "\n",
    "arr = np.ones((4, 3), dtype=\"int\")\n",
    "print(arr)\n",
    "print(arr.shape)\n",
    "print(arr.dtype)"
   ]
  },
  {
   "cell_type": "code",
   "execution_count": 2,
   "id": "e93efa7c-86d3-4636-8722-cc5293fb3bd4",
   "metadata": {},
   "outputs": [
    {
     "name": "stdout",
     "output_type": "stream",
     "text": [
      "[[1 2 3]\n",
      " [4 5 6]\n",
      " [7 8 9]]\n"
     ]
    }
   ],
   "source": [
    "import numpy as np\n",
    "\n",
    "arr2 = np.array([[1, 2, 3], [4, 5, 6], [7, 8, 9]])\n",
    "print(arr2)"
   ]
  },
  {
   "cell_type": "code",
   "execution_count": 3,
   "id": "917e23cc-8857-4ab2-bf29-3282cb50363c",
   "metadata": {},
   "outputs": [
    {
     "name": "stdout",
     "output_type": "stream",
     "text": [
      "[1 2 3 4 5 6 7 8 9]\n"
     ]
    }
   ],
   "source": [
    "arr2 = np.arange(1, 10)\n",
    "print(arr2)\n"
   ]
  },
  {
   "cell_type": "code",
   "execution_count": 5,
   "id": "7df86743-12d8-4d72-8b85-ea4d3e30023a",
   "metadata": {},
   "outputs": [
    {
     "name": "stdout",
     "output_type": "stream",
     "text": [
      "[0 1 2 3 4 5 6 7 8 9]\n"
     ]
    }
   ],
   "source": [
    "import numpy as np\n",
    "\n",
    "arr1 = np.arange(10)\n",
    "print(arr1)"
   ]
  },
  {
   "cell_type": "code",
   "execution_count": 6,
   "id": "7c5417ab-7f46-4589-9ebf-9ac3536ac116",
   "metadata": {},
   "outputs": [
    {
     "name": "stdout",
     "output_type": "stream",
     "text": [
      "[ 0  1  2  3  4  5  6  7  8  9 10 11 12 13 14 15 16 17 18 19 20 21 22 23\n",
      " 24 25 26 27 28 29 30 31 32 33 34 35 36 37 38 39 40 41 42 43 44 45 46 47\n",
      " 48 49 50 51 52 53 54 55 56 57 58 59 60 61 62 63 64 65 66 67 68 69 70 71\n",
      " 72 73 74 75 76 77 78 79 80 81 82 83 84 85 86 87 88 89 90 91 92 93 94 95\n",
      " 96 97 98 99]\n"
     ]
    }
   ],
   "source": [
    "import numpy as np\n",
    "arr1 = np.arange(100)\n",
    "print(arr1)"
   ]
  },
  {
   "cell_type": "code",
   "execution_count": 7,
   "id": "6c7d9902-754b-4e14-a5a9-b9cc50589d77",
   "metadata": {},
   "outputs": [
    {
     "name": "stdout",
     "output_type": "stream",
     "text": [
      "[ 1  2  3  4  5  6  7  8  9 10 11 12 13 14 15 16 17 18 19]\n"
     ]
    }
   ],
   "source": [
    "arr2 = np.arange(1,20)\n",
    "print(arr2)\n"
   ]
  },
  {
   "cell_type": "code",
   "execution_count": 10,
   "id": "58053703-63c1-47e9-9114-4c7f92ca4ae9",
   "metadata": {},
   "outputs": [
    {
     "name": "stdout",
     "output_type": "stream",
     "text": [
      "5\n",
      "6\n",
      "7\n",
      "8\n",
      "9\n",
      "10\n"
     ]
    }
   ],
   "source": [
    "for i in range(5, 11): \n",
    "    print(i)"
   ]
  },
  {
   "cell_type": "code",
   "execution_count": 11,
   "id": "97e7682f-43c0-4e6e-909c-d45a9e3af557",
   "metadata": {},
   "outputs": [
    {
     "name": "stdout",
     "output_type": "stream",
     "text": [
      "[0. 0. 0. 0. 0.]\n"
     ]
    }
   ],
   "source": [
    "zeros = np.zeros(5)\n",
    "print(zeros)"
   ]
  },
  {
   "cell_type": "code",
   "execution_count": 1,
   "id": "b6139ead-8531-417c-9e52-e62379fe3898",
   "metadata": {},
   "outputs": [
    {
     "name": "stdout",
     "output_type": "stream",
     "text": [
      "[[1 2 3]\n",
      " [4 5 6]]\n"
     ]
    }
   ],
   "source": [
    "import numpy as np\n",
    "print(np.array([1, 2, 3, 4, 5, 6]).reshape(2, 3))\n"
   ]
  },
  {
   "cell_type": "code",
   "execution_count": 23,
   "id": "4b3d8255-6852-4c1a-886c-7bb0cddc80de",
   "metadata": {},
   "outputs": [
    {
     "name": "stdout",
     "output_type": "stream",
     "text": [
      "2\n",
      "6\n",
      "int64\n"
     ]
    }
   ],
   "source": [
    "#array attributes\n",
    "\n",
    "arr = np.array([[1, 2, 3], [4, 5, 6]])\n",
    "print(arr.ndim)     \n",
    "print(arr.size) \n",
    "print(arr.dtype)  "
   ]
  },
  {
   "cell_type": "code",
   "execution_count": 13,
   "id": "0a727625-d67d-4ac5-a32f-2987f5ca46f7",
   "metadata": {},
   "outputs": [
    {
     "name": "stdout",
     "output_type": "stream",
     "text": [
      "20\n",
      "40\n",
      "2\n"
     ]
    }
   ],
   "source": [
    "# array indexing\n",
    "arr = np.array([10, 20, 30, 40])\n",
    "print(arr[1])    \n",
    "print(arr[-1])    \n",
    "\n",
    "arr2 = np.array([[1, 2], [3, 4]])\n",
    "print(arr2[0][1]) "
   ]
  },
  {
   "cell_type": "code",
   "execution_count": 14,
   "id": "f0ce57cf-45e5-4c6c-8fad-3716e9bc0da1",
   "metadata": {},
   "outputs": [
    {
     "name": "stdout",
     "output_type": "stream",
     "text": [
      "[[1 2 3]\n",
      " [4 5 6]\n",
      " [7 8 9]]\n"
     ]
    }
   ],
   "source": [
    "# reshape & arange\n",
    "a = np.arange(1, 10)            \n",
    "b = a.reshape(3, 3)             \n",
    "print(b)"
   ]
  },
  {
   "cell_type": "code",
   "execution_count": 15,
   "id": "18abed0e-67ec-4cc4-9d25-b057ed4dbfbe",
   "metadata": {},
   "outputs": [
    {
     "name": "stdout",
     "output_type": "stream",
     "text": [
      "[5 7 9]\n"
     ]
    }
   ],
   "source": [
    "# arithmatic operation\n",
    "x = np.array([1, 2, 3])\n",
    "y = np.array([4, 5, 6])\n",
    "\n",
    "print(x + y)    \n"
   ]
  },
  {
   "cell_type": "code",
   "execution_count": 16,
   "id": "ad95dfc9-0c2e-4f5e-a7ec-c5f751619cae",
   "metadata": {},
   "outputs": [
    {
     "name": "stdout",
     "output_type": "stream",
     "text": [
      "[-3 -3 -3]\n",
      "[1 4 9]\n"
     ]
    }
   ],
   "source": [
    "# arithmatic operation\n",
    "x = np.array([1, 2, 3])\n",
    "y = np.array([4, 5, 6])\n",
    "\n",
    "print(x - y)     \n",
    "print(x ** 2) "
   ]
  },
  {
   "cell_type": "code",
   "execution_count": 18,
   "id": "a6901f03-47fe-4d99-95ce-9f4f18072a41",
   "metadata": {},
   "outputs": [
    {
     "name": "stdout",
     "output_type": "stream",
     "text": [
      "4\n"
     ]
    }
   ],
   "source": [
    "#self learning topic\n",
    "\n",
    "arr = np.array([1, 3, 7, 2, 9])\n",
    "\n",
    "print(np.argmax(arr))  \n"
   ]
  },
  {
   "cell_type": "code",
   "execution_count": 21,
   "id": "7256783b-7fb4-4faa-af96-47f2efaad0dc",
   "metadata": {},
   "outputs": [
    {
     "name": "stdout",
     "output_type": "stream",
     "text": [
      "0\n",
      "[0.   0.25 0.5  0.75 1.  ]\n",
      "[ 2  4 -5  7]\n"
     ]
    }
   ],
   "source": [
    "#self learning topic \n",
    "\n",
    "arr = np.array([1, 3, 7, 2, 9])\n",
    "\n",
    "print(np.argmin(arr))   \n",
    "print(np.linspace(0, 1, 5))\n",
    "print(np.diff(arr)) "
   ]
  },
  {
   "cell_type": "code",
   "execution_count": null,
   "id": "4c7dde73-3e0b-4792-897d-c983fe46bba3",
   "metadata": {},
   "outputs": [],
   "source": [
    " "
   ]
  }
 ],
 "metadata": {
  "kernelspec": {
   "display_name": "Python 3 (ipykernel)",
   "language": "python",
   "name": "python3"
  },
  "language_info": {
   "codemirror_mode": {
    "name": "ipython",
    "version": 3
   },
   "file_extension": ".py",
   "mimetype": "text/x-python",
   "name": "python",
   "nbconvert_exporter": "python",
   "pygments_lexer": "ipython3",
   "version": "3.13.5"
  }
 },
 "nbformat": 4,
 "nbformat_minor": 5
}
